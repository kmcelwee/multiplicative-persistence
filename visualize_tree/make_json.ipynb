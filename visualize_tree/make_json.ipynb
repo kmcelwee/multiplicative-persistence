{
 "cells": [
  {
   "cell_type": "code",
   "execution_count": 12,
   "metadata": {},
   "outputs": [],
   "source": [
    "import pickle\n",
    "import json"
   ]
  },
  {
   "cell_type": "code",
   "execution_count": 13,
   "metadata": {},
   "outputs": [],
   "source": [
    "with open('dict650.pickle', 'rb') as f:\n",
    "    d = pickle.load(f)\n",
    "all_factors = []\n",
    "for k, v in d.items():\n",
    "    all_factors.extend(v)"
   ]
  },
  {
   "cell_type": "code",
   "execution_count": 14,
   "metadata": {},
   "outputs": [],
   "source": [
    "def prod(l):\n",
    "    i = 1\n",
    "    for s in l:\n",
    "        i *= int(s)\n",
    "    return i\n",
    "\n",
    "def seq(n):\n",
    "    n_s = str(n)\n",
    "    return_l = []\n",
    "    while len(n_s) != 1:\n",
    "        return_l.append(n_s)\n",
    "        p = prod(n_s)\n",
    "        n_s = str(p)\n",
    "    return_l.append(n_s)\n",
    "    return return_l"
   ]
  },
  {
   "cell_type": "code",
   "execution_count": 15,
   "metadata": {},
   "outputs": [],
   "source": [
    "def find(val, l):\n",
    "    d = [x for x in l if x['name'] == str(val)]\n",
    "    if len(d) == 0:\n",
    "        return None\n",
    "    assert len(d) == 1, len(d)\n",
    "    return d[0]"
   ]
  },
  {
   "cell_type": "code",
   "execution_count": 18,
   "metadata": {},
   "outputs": [],
   "source": [
    "l = []\n",
    "for num in all_factors:\n",
    "    s = seq(num)\n",
    "    s.reverse()\n",
    "    \n",
    "    # zero handling (nested_limited)\n",
    "    if s[0] != 0 and len(s) > 3:\n",
    "        this_l = l\n",
    "        for j, n in enumerate(s):\n",
    "            new_d = find(n, this_l)\n",
    "            if new_d is None:\n",
    "                this_l.append({\n",
    "                    'name': str(n),\n",
    "                    'parent': str(s[j-1]) if j != 0 else 'null',\n",
    "                    'children': []\n",
    "                })\n",
    "                new_d = find(n, this_l)\n",
    "            this_l = new_d['children']"
   ]
  },
  {
   "cell_type": "code",
   "execution_count": 19,
   "metadata": {},
   "outputs": [],
   "source": [
    "with open('nested.json', 'w') as f:\n",
    "    json.dump(l, f, indent=4)"
   ]
  }
 ],
 "metadata": {
  "kernelspec": {
   "display_name": "Python 3",
   "language": "python",
   "name": "python3"
  },
  "language_info": {
   "codemirror_mode": {
    "name": "ipython",
    "version": 3
   },
   "file_extension": ".py",
   "mimetype": "text/x-python",
   "name": "python",
   "nbconvert_exporter": "python",
   "pygments_lexer": "ipython3",
   "version": "3.6.8"
  }
 },
 "nbformat": 4,
 "nbformat_minor": 2
}
